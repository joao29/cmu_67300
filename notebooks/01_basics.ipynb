{
 "cells": [
  {
   "cell_type": "markdown",
   "metadata": {
    "deletable": true,
    "editable": true
   },
   "source": [
    "# Hey there!\n",
    "\n",
    "Welcome to class 67-300 (Search Engines). This is going to be a highly hands on class, so let's start experimenting!\n",
    "\n",
    "The first thing that we will need is some text. \n",
    "Fortunately, we can have fun with lots of books from project Gutenberg."
   ]
  },
  {
   "cell_type": "code",
   "execution_count": 7,
   "metadata": {
    "code_folding": [],
    "collapsed": false,
    "deletable": true,
    "editable": true
   },
   "outputs": [
    {
     "name": "stdout",
     "output_type": "stream",
     "text": [
      "﻿Project Gutenberg's Frankenstein, by Mary Wollstonecraft (Godwin) Shelley\r\n",
      "\r\n",
      "This eBook is for the use of anyone anywhere at no cost and with\r\n",
      "almost no restrictions whatsoever.  You may copy it, give it away or\r\n",
      "re-use it under the terms of the Project Gutenberg License included\r\n",
      "with this eBook or online at www.gutenberg.net\r\n",
      "\r\n",
      "\r\n",
      "Title: Frankenstein\r\n",
      "       or The Modern Prometheus\r\n",
      "\r\n",
      "Author: Mary Wollstonecraft (Godwin) Shelley\r\n",
      "\r\n",
      "Release Date: June 17, 2008 [EBook #84]\r\n",
      "\r\n",
      "Language: English\r\n",
      "\r\n",
      "\r\n",
      "*** START OF THIS PROJECT GUTENBERG EBOOK FRANKENSTEIN ***\r\n",
      "\r\n",
      "\r\n",
      "\r\n",
      "\r\n",
      "Produced by Judith Boss, Christy Phillips, Lynn Hanninen,\r\n",
      "and David Meltzer. HTML version by Al Haines.\r\n",
      "\r\n",
      "\r\n",
      "\r\n",
      "\r\n",
      "\r\n",
      "\r\n",
      "\r\n",
      "\r\n",
      "\r\n",
      "\r\n",
      "Frankenstein,\r\n",
      "\r\n",
      "or the Modern Prometheus\r\n",
      "\r\n",
      "\r\n",
      "by\r\n",
      "\r\n",
      "Mary Wollstonecraft (Godwin) Shelley\r\n",
      "\r\n",
      "\r\n",
      "\r\n",
      "\r\n",
      "Letter 1\r\n",
      "\r\n",
      "\r\n",
      "St. Petersburgh, Dec. 11th, 17--\r\n",
      "\r\n",
      "TO Mrs. Saville, England\r\n",
      "\r\n",
      "You will rejoice to hear that no disaster has accompanied the\r\n",
      "commencement of an enterprise which you have regarded with \n"
     ]
    }
   ],
   "source": [
    "# The following code assumes that Frankenstein was downloaded from http://www.gutenberg.org/ebooks/84 \n",
    "# (more specifically from http://www.gutenberg.org/cache/epub/84/pg84.txt)\n",
    "# and saved into a directory called resources as frankenstein.txt:\n",
    "\n",
    "filename = \"./resources/frankenstein.txt\"\n",
    "\n",
    "with open(filename, \"rb\") as f:\n",
    "    content = f.read()\n",
    "\n",
    "# Let's see the first 1000 chars of this text:\n",
    "print content[:1000]\n"
   ]
  },
  {
   "cell_type": "markdown",
   "metadata": {},
   "source": [
    "# Preprocessing your text"
   ]
  },
  {
   "cell_type": "markdown",
   "metadata": {},
   "source": [
    "Okay, document content is loaded. Now let's take a look at the preprocessing steps we have learnt.\n",
    "\n",
    "#### (1) Remove special chars? Keep special chars? Think of hyphens (pre-processing) or contractions (it's, let's, you're).\n",
    "#### (2) Lower case every token? New York -> new york?\n",
    "#### (3) Remove stopwords?\n",
    "#### (4) Apply stemming? Which one?\n",
    "\n",
    "\n",
    "----------------------------------------------------------------------------------------------------\n",
    "----------------------------------------------------------------------------------------------------\n"
   ]
  },
  {
   "cell_type": "markdown",
   "metadata": {
    "collapsed": false,
    "deletable": true,
    "editable": true,
    "scrolled": true
   },
   "source": [
    "#### (1) How about removing non alphanumeric characters?"
   ]
  },
  {
   "cell_type": "code",
   "execution_count": 10,
   "metadata": {
    "collapsed": true,
    "deletable": true,
    "editable": true
   },
   "outputs": [],
   "source": [
    "# Alternative 1: replacing some punctuation chars in the original content\n",
    "chars_to_remove = [\",\",\".\",\"!\",\"?\",\"*\",\"@\",\"#\",\"$\",\"%\",\"^\",\"&\",\"*\",\"(\",\")\"]\n",
    "new_content = content\n",
    "\n",
    "for c in chars_to_remove:\n",
    "    new_content = new_content.replace(c, \" \")\n",
    "tokens = new_content.split()\n",
    "\n",
    "\n",
    "# Alternative 2: use regular expressions to remove punctuation chars.\n",
    "import re # re is the Regular Expression module\n",
    "new_content = re.sub(\"\\W\", \" \", content) # replaces all non alphanumeric chars by a white space\n",
    "tokens = new_content.split()\n",
    "\n",
    "# WARN: Note that you do not want to have both alternatives in your code. Pick one or create a third alternative.\n"
   ]
  },
  {
   "cell_type": "markdown",
   "metadata": {},
   "source": [
    "#### (2) Lower case tokens"
   ]
  },
  {
   "cell_type": "code",
   "execution_count": 11,
   "metadata": {
    "collapsed": true,
    "deletable": true,
    "editable": true
   },
   "outputs": [],
   "source": [
    "# Alternative 1: very C/Java stylish\n",
    "# a new list called new_tokens is initialized empty and we fill as we go through tokens.\n",
    "new_tokens = []\n",
    "for tok in tokens:\n",
    "    new_tokens.append(tok.lower())\n",
    "\n",
    "\n",
    "# Alternative 2: python style.\n",
    "new_tokens = [tok.lower() for tok in tokens]\n",
    "\n",
    "# \n",
    "# tokens = new_tokens.copy()\n",
    "#"
   ]
  },
  {
   "cell_type": "markdown",
   "metadata": {
    "collapsed": true,
    "deletable": true,
    "editable": true
   },
   "source": [
    "#### (3) Remove stopwords"
   ]
  },
  {
   "cell_type": "code",
   "execution_count": 12,
   "metadata": {
    "collapsed": true
   },
   "outputs": [],
   "source": [
    "stopwords = set([\"a\", \"are\", \"the\", \"is\"])\n",
    "\n",
    "# Check one by one of the words if this word is not in a set of forbiden words. \n",
    "# If the word is not there, we add it to this new list.\n",
    "\n",
    "# Python style in one single line of code:\n",
    "new_tokens = [tok for tok in tokens if tok not in stopwords]\n",
    "\n",
    "# \n",
    "# tokens = new_tokens.copy()\n",
    "#"
   ]
  },
  {
   "cell_type": "markdown",
   "metadata": {},
   "source": [
    "#### (4) Apply stemming? Which one?"
   ]
  },
  {
   "cell_type": "code",
   "execution_count": 17,
   "metadata": {
    "collapsed": false,
    "deletable": true,
    "editable": true
   },
   "outputs": [
    {
     "name": "stdout",
     "output_type": "stream",
     "text": [
      "glory ---> glori\n",
      "to ---> to\n",
      "every ---> everi\n",
      "enticement ---> entic\n",
      "that ---> that\n",
      "wealth ---> wealth\n",
      "placed ---> place\n",
      "in ---> in\n",
      "my ---> my\n",
      "path ---> path\n",
      "\n",
      "*** Stemming example using nltk:\n",
      "cat cat\n"
     ]
    }
   ],
   "source": [
    "# It is likely that we will want inflected forms of a word to be mapped to a common root of this word.\n",
    "# For example: a search for cats, should find documents that contain the word cat as well.\n",
    "# In the class, we saw another example in which arab, arabs, arabic, arabical... are mapped to 'arab'.\n",
    "\n",
    "# There are many stemming procedures out there and many packages available for that.\n",
    "# Below you will see an example with a package called 'stemming' and another with a package called 'nltk'\n",
    "\n",
    "# Using Stemming:\n",
    "from stemming.porter2 import stem # some other options are lovins, paicehusk, porter, and porter2\n",
    "\n",
    "for tok in tokens[1000:1010]:\n",
    "    print(\"%s ---> %s\" % (tok, stem(tok)))\n",
    "\n",
    "new_tokens = [stem(tok) for tok in tokens]\n",
    "\n",
    "\n",
    "# Using NLTK:\n",
    "from nltk.stem.porter import PorterStemmer\n",
    "stemmer = PorterStemmer()\n",
    "print \"\\n*** Stemming example using nltk:\"\n",
    "print stemmer.stem(\"cats\"), stemmer.stem(\"cat\")\n"
   ]
  },
  {
   "cell_type": "markdown",
   "metadata": {},
   "source": [
    "## Remember:\n",
    "#### * Token -> every single occurrence of a word\n",
    "#### * Types (terms) -> number of unique tokens\n"
   ]
  },
  {
   "cell_type": "code",
   "execution_count": 18,
   "metadata": {
    "collapsed": false
   },
   "outputs": [
    {
     "name": "stdout",
     "output_type": "stream",
     "text": [
      "Number of tokens: 78475. Number of types (terms): 7819.\n"
     ]
    }
   ],
   "source": [
    "# This is quite easy to know in python. Just check the sizes of the tokens and the terms:\n",
    "print(\"Number of tokens: %d. Number of types (terms): %d.\" % (len(tokens), len(set(tokens))))"
   ]
  },
  {
   "cell_type": "markdown",
   "metadata": {},
   "source": [
    "# BONUS PART:\n",
    "## What are the most common words used in this text?"
   ]
  },
  {
   "cell_type": "code",
   "execution_count": 19,
   "metadata": {
    "collapsed": false
   },
   "outputs": [
    {
     "data": {
      "text/plain": [
       "[('the', 4070),\n",
       " ('and', 3006),\n",
       " ('I', 2849),\n",
       " ('of', 2746),\n",
       " ('to', 2154),\n",
       " ('my', 1634),\n",
       " ('a', 1402),\n",
       " ('in', 1136),\n",
       " ('was', 1019),\n",
       " ('that', 1019),\n",
       " ('me', 866),\n",
       " ('with', 701),\n",
       " ('had', 684),\n",
       " ('which', 565),\n",
       " ('but', 553),\n",
       " ('you', 546),\n",
       " ('not', 526),\n",
       " ('his', 502),\n",
       " ('as', 492),\n",
       " ('he', 478),\n",
       " ('by', 468),\n",
       " ('it', 461),\n",
       " ('for', 459),\n",
       " ('on', 449),\n",
       " ('from', 388),\n",
       " ('be', 367),\n",
       " ('this', 363),\n",
       " ('have', 362),\n",
       " ('her', 358),\n",
       " ('is', 328),\n",
       " ('were', 307),\n",
       " ('at', 305),\n",
       " ('The', 297),\n",
       " ('when', 274),\n",
       " ('or', 247),\n",
       " ('your', 246),\n",
       " ('him', 222),\n",
       " ('an', 213),\n",
       " ('so', 207),\n",
       " ('all', 207),\n",
       " ('will', 196),\n",
       " ('could', 192),\n",
       " ('been', 190),\n",
       " ('are', 189),\n",
       " ('one', 188),\n",
       " ('would', 183),\n",
       " ('she', 183),\n",
       " ('their', 176),\n",
       " ('they', 174),\n",
       " ('who', 166)]"
      ]
     },
     "execution_count": 19,
     "metadata": {},
     "output_type": "execute_result"
    }
   ],
   "source": [
    "from collections import Counter\n",
    "# This library provides an easy way to count occurrences in a text\n",
    "sorted(Counter(tokens).items(), key=lambda x:(x[1],x[0]), reverse=True)[:50]"
   ]
  },
  {
   "cell_type": "code",
   "execution_count": 20,
   "metadata": {
    "collapsed": false
   },
   "outputs": [
    {
     "data": {
      "text/plain": [
       "309"
      ]
     },
     "execution_count": 20,
     "metadata": {},
     "output_type": "execute_result"
    }
   ],
   "source": [
    "\n",
    "# What about ranking the words by their frequency? \n",
    "# Rank 1 is the most frequent word, Rank 2 is the second most frequent word and so on.\n",
    "# What is the rank of the title of this book?\n",
    "word_rank = dict()\n",
    "i = 1\n",
    "for w, f in sorted(Counter(tokens).items(), key=lambda x:(x[1],x[0]), reverse=True):\n",
    "    word_rank[w] = i\n",
    "    i += 1\n",
    "word_rank[\"Frankenstein\"]\n",
    "\n",
    "# Surprised?"
   ]
  },
  {
   "cell_type": "markdown",
   "metadata": {},
   "source": [
    "## How about checking how the frequency of words are distributed in our text?"
   ]
  },
  {
   "cell_type": "code",
   "execution_count": 21,
   "metadata": {
    "collapsed": false
   },
   "outputs": [
    {
     "data": {
      "text/plain": [
       "[<matplotlib.lines.Line2D at 0x7f93bfd138d0>]"
      ]
     },
     "execution_count": 21,
     "metadata": {},
     "output_type": "execute_result"
    },
    {
     "data": {
      "image/png": "[encoded data removed]",
      "text/plain": [
       "<matplotlib.figure.Figure at 0x7f93c3e53f90>"
      ]
     },
     "metadata": {},
     "output_type": "display_data"
    }
   ],
   "source": [
    "%matplotlib inline\n",
    "import matplotlib.pyplot as plt\n",
    "\n",
    "word_freq = sorted([f for t, f in Counter(tokens).items()], reverse=True)\n",
    "\n",
    "# lets plot the frequency of the first 100 words of our text\n",
    "plt.plot(range(len(word_freq[:100])), word_freq[:100])\n",
    "\n",
    "# You just discovered that words in a text follow a power law!!! (https://en.wikipedia.org/wiki/Power_law)"
   ]
  },
  {
   "cell_type": "markdown",
   "metadata": {},
   "source": [
    "# Congratulations! You just finished the first class. :)"
   ]
  }
 ],
 "metadata": {
  "kernelspec": {
   "display_name": "Python 2",
   "language": "python",
   "name": "python2"
  },
  "language_info": {
   "codemirror_mode": {
    "name": "ipython",
    "version": 2
   },
   "file_extension": ".py",
   "mimetype": "text/x-python",
   "name": "python",
   "nbconvert_exporter": "python",
   "pygments_lexer": "ipython2",
   "version": "2.7.13"
  }
 },
 "nbformat": 4,
 "nbformat_minor": 1
}
